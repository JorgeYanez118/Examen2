{
 "cells": [
  {
   "cell_type": "code",
   "execution_count": 2,
   "metadata": {},
   "outputs": [],
   "source": [
    "%load_ext autoreload"
   ]
  },
  {
   "cell_type": "markdown",
   "metadata": {},
   "source": [
    "# ODE"
   ]
  },
  {
   "cell_type": "markdown",
   "metadata": {},
   "source": [
    "## Ejercicio 1\n",
    "$y'= -5y+5t^2+2t$\n",
    "* $0 \\le t \\le 1$\n",
    "* $y(t_0)=1/3$\n",
    "* $N=10$\n",
    "\n"
   ]
  },
  {
   "cell_type": "code",
   "execution_count": 3,
   "metadata": {},
   "outputs": [
    {
     "name": "stdout",
     "output_type": "stream",
     "text": [
      "[02-06 13:47:06][INFO] 2025-02-06 13:47:06.311856\n",
      "[02-06 13:47:06][INFO] LabP3E005| 2025-02-06 13:47:06.524639\n",
      "[02-06 13:47:06][INFO] 2025-02-06 13:47:06.526672\n",
      "[02-06 13:47:06][INFO] LabP3E005| 2025-02-06 13:47:06.528267\n"
     ]
    }
   ],
   "source": [
    "%autoreload 2\n",
    "from src import ODE_euler\n"
   ]
  },
  {
   "cell_type": "markdown",
   "metadata": {},
   "source": [
    "## Comparación con la solución real\n",
    "La solución real de la ecuación diferencial es:\n",
    "$y(t)=t^2 +1/3e^{-5t}$\n",
    "\n",
    "* Grafique la solución real y la aproximación obtenida con el método de Euler en una misma gráfica.\n",
    "\n"
   ]
  },
  {
   "cell_type": "code",
   "execution_count": 5,
   "metadata": {},
   "outputs": [
    {
     "data": {
      "text/plain": [
       "([0.3333333333333333,\n",
       "  0.45555555555555555,\n",
       "  0.6004320987654321,\n",
       "  0.8007778711324494,\n",
       "  1.131556044806648,\n",
       "  1.7980767950372099,\n",
       "  3.524232234470294,\n",
       "  10.139185102604094,\n",
       "  63.2185593955593,\n",
       "  2073.755397299601,\n",
       "  2152718.7803913727],\n",
       " [0,\n",
       "  0.1,\n",
       "  0.2,\n",
       "  0.30000000000000004,\n",
       "  0.4,\n",
       "  0.5,\n",
       "  0.6,\n",
       "  0.7,\n",
       "  0.7999999999999999,\n",
       "  0.8999999999999999,\n",
       "  0.9999999999999999],\n",
       " 0.1)"
      ]
     },
     "execution_count": 5,
     "metadata": {},
     "output_type": "execute_result"
    }
   ],
   "source": [
    "\n",
    "def f(y, t):\n",
    "    return (-5*y + 5*t**2 +2*t)\n",
    "\n",
    "a = 0\n",
    "b = 1\n",
    "y_t0 = 1/3\n",
    "N = 10\n",
    "\n",
    "ODE_euler(a=a, b=b, f= f, y_t0= y_t0, N=N)"
   ]
  },
  {
   "cell_type": "code",
   "execution_count": 6,
   "metadata": {},
   "outputs": [
    {
     "data": {
      "text/plain": [
       "([0.3333333333333333,\n",
       "  0.5777777777777777,\n",
       "  0.9427160493827159,\n",
       "  1.8085160188995577,\n",
       "  5.202652617075686,\n",
       "  33.55130791787045],\n",
       " [0, 0.2, 0.4, 0.6000000000000001, 0.8, 1.0],\n",
       " 0.2)"
      ]
     },
     "execution_count": 6,
     "metadata": {},
     "output_type": "execute_result"
    }
   ],
   "source": [
    "def f(y, t):\n",
    "    return (-5*y + 5*t**2 +2*t)\n",
    "\n",
    "a = 0\n",
    "b = 1\n",
    "y_t0 = 1/3\n",
    "N = 5\n",
    "\n",
    "ODE_euler(a=a, b=b, f= f, y_t0= y_t0, N=N)"
   ]
  },
  {
   "cell_type": "code",
   "execution_count": 7,
   "metadata": {},
   "outputs": [
    {
     "data": {
      "text/plain": [
       "([0.3333333333333333,\n",
       "  0.39444444444444443,\n",
       "  0.4602854938271605,\n",
       "  0.5342797271668048,\n",
       "  0.6215714065988441,\n",
       "  0.730316300634045,\n",
       "  0.8741884054403987,\n",
       "  1.0776585880360452,\n",
       "  1.3882614549316104,\n",
       "  1.9089050672369794,\n",
       "  2.8982752128914315,\n",
       "  5.163102536595793,\n",
       "  12.206319741105851,\n",
       "  50.52551212074404,\n",
       "  693.6224070986816,\n",
       "  121040.82055515084,\n",
       "  3662853204.881168,\n",
       "  3.354123404156199e+18,\n",
       "  2.812535952577092e+36,\n",
       "  1.977589621134683e+72,\n",
       "  9.77715177404905e+143],\n",
       " [0,\n",
       "  0.05,\n",
       "  0.1,\n",
       "  0.15000000000000002,\n",
       "  0.2,\n",
       "  0.25,\n",
       "  0.3,\n",
       "  0.35,\n",
       "  0.39999999999999997,\n",
       "  0.44999999999999996,\n",
       "  0.49999999999999994,\n",
       "  0.5499999999999999,\n",
       "  0.6,\n",
       "  0.65,\n",
       "  0.7000000000000001,\n",
       "  0.7500000000000001,\n",
       "  0.8000000000000002,\n",
       "  0.8500000000000002,\n",
       "  0.9000000000000002,\n",
       "  0.9500000000000003,\n",
       "  1.0000000000000002],\n",
       " 0.05)"
      ]
     },
     "execution_count": 7,
     "metadata": {},
     "output_type": "execute_result"
    }
   ],
   "source": [
    "def f(y, t):\n",
    "    return (-5*y + 5*t**2 +2*t)\n",
    "\n",
    "a = 0\n",
    "b = 1\n",
    "y_t0 = 1/3\n",
    "N = 20\n",
    "\n",
    "ODE_euler(a=a, b=b, f= f, y_t0= y_t0, N=N)"
   ]
  },
  {
   "cell_type": "markdown",
   "metadata": {},
   "source": [
    "# Errores\n",
    "Calcule el eeror relativo para diferentes valores de N."
   ]
  },
  {
   "cell_type": "code",
   "execution_count": 25,
   "metadata": {},
   "outputs": [],
   "source": [
    "# Calcular error relativo"
   ]
  }
 ],
 "metadata": {
  "kernelspec": {
   "display_name": "Python 3",
   "language": "python",
   "name": "python3"
  },
  "language_info": {
   "codemirror_mode": {
    "name": "ipython",
    "version": 3
   },
   "file_extension": ".py",
   "mimetype": "text/x-python",
   "name": "python",
   "nbconvert_exporter": "python",
   "pygments_lexer": "ipython3",
   "version": "3.13.1"
  }
 },
 "nbformat": 4,
 "nbformat_minor": 2
}
