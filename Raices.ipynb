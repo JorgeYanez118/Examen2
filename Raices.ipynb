{
  "nbformat": 4,
  "nbformat_minor": 0,
  "metadata": {
    "colab": {
      "provenance": []
    },
    "kernelspec": {
      "name": "python3",
      "display_name": "Python 3"
    },
    "language_info": {
      "name": "python"
    }
  },
  "cells": [
    {
      "cell_type": "markdown",
      "source": [
        "RAICES"
      ],
      "metadata": {
        "id": "-Z-uNTM4IDDv"
      }
    },
    {
      "cell_type": "code",
      "source": [
        "from scipy import optimize\n",
        "\n",
        "\n",
        "def f(x):\n",
        "  return (x**5 - 6*x**4 + 2*x**3 + 20*x**2 -27*x + 10)\n",
        "\n",
        "roots = []\n",
        "\n",
        "for i in range(-50, 50):\n",
        "    try:\n",
        "        root = optimize.bisect(f, i/10, (i+1)/10)\n",
        "        if root not in roots:\n",
        "          roots.append(root)\n",
        "    except ValueError:\n",
        "        pass\n",
        "\n",
        "print(\"Roots:\", roots)"
      ],
      "metadata": {
        "colab": {
          "base_uri": "https://localhost:8080/"
        },
        "id": "akcbcKlJLByq",
        "outputId": "424c1b56-d0fe-4916-fa4d-aa70f2de1141"
      },
      "execution_count": 19,
      "outputs": [
        {
          "output_type": "stream",
          "name": "stdout",
          "text": [
            "Roots: [-2.0, 1.0, 5.0]\n"
          ]
        }
      ]
    }
  ]
}